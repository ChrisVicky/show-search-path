{
 "cells": [
  {
   "cell_type": "markdown",
   "metadata": {
    "id": "1a_O3hT0JDXf"
   },
   "source": [
    "Group Name: AG xx.\n",
    "\n",
    "Student Name (Student ID):\n",
    "\n",
    "1. xxxx xxxxx (xxxxxxx)\n",
    "\n",
    "2. xxxx xxxxx (xxxxxxx)\n",
    "\n",
    "3. xxxx xxxxx (xxxxxxx)\n",
    "\n",
    "4. xxxx xxxxx (xxxxxxx)"
   ]
  },
  {
   "cell_type": "markdown",
   "metadata": {
    "id": "Ho8XMSP2JDXq"
   },
   "source": [
    "# Question 1\n",
    "\n",
    "Consider the maze shown below. The Maze has 16 rows and 24 columns The objective is to find a shortest path from cell $S$ to cell $G$.\n",
    "\n",
    "\n",
    "![Maze](./Maze.jpg)\n",
    "\n",
    "\n",
    "The agent can take four actions in each cell: 'RIGHT', 'DOWN', 'UP', 'LEFT'.  \n",
    "\n",
    "Each cell is represented as $(x,y)$, where $x$ indicates row number and $y$ indicates column number. Action 'UP' takes the agent from cell $(x,y)$ to $(x+1,y)$. Action 'DOWN' takes the agent from cell $(x,y)$ to $(x-1,y)$. Action 'RIGHT' takes the agent from cell $(x,y)$ to $(x,y+1)$. Action 'LEFT' takes the agent from cell $(x,y)$ to $(x,y-1)$. The triplet $(s,a,s')$  indicates that taking action $a$ at state $s$ leads to state $s'$. Actions 'LEFT' or 'RIGHT' cost 10 units for all $(s,a,s')$. Actions 'UP' or 'DOWN' cost 1 unit for all  $(s,a,s')$.  The agent cannot move into cells that are shaded. Assume that the agent knows the boundaries of the maze and has full observability. Consequently, at the bottom (row 0) and top (row 15), the agent will not take actions 'DOWN' and 'UP', respectively; at left (column 0) and right (column 23) columns, the agent will not take 'LEFT' and 'RIGHT' actions, respectively. Similalry, the agent will not take actions that lead to shaded region in the maze."
   ]
  },
  {
   "cell_type": "markdown",
   "metadata": {},
   "source": [
    "## **Q1.a: Class Maze(Problem)** [5 Marks]\n",
    "\n",
    "Write a Maze class to create a model for this problem. You should not use an explicit state space model. The modelling should inherit the abstract class 'Problem' (given below). With the problem formulation, find the shortest path from S to G cell. Propose and implement multiple heuristics (at least two heuristics) for informed search algorithms."
   ]
  },
  {
   "cell_type": "markdown",
   "metadata": {
    "id": "IQJTwtm6JDXs"
   },
   "source": [
    "## **Q1.b: Analysis of the Algorithms** [5 Marks]\n",
    "\n",
    "1. Solve the above Maze problem using the following algorithms\n",
    "\n",
    "    a. Breadth-First Search\n",
    "\n",
    "    b. Depth-First Search with Cycle-Check\n",
    "\n",
    "    c. Iterative-Deepening Search with Cycle-Check\n",
    "\n",
    "    d. Uniform-Cost Search\n",
    "\n",
    "    e. A* Search \n",
    "\n",
    "    f. Greedy Best-first Search\n",
    "\n",
    "2. Identify the number of number of expanded nodes, maximum frontier size, and path-cost for the above algorithms.  Summarize the statistics in the form of a table.\n",
    " \n",
    "3. Compare the performance of informed search algorithms with proposed heuristics. Identify the best performing heuristic and explain.\n",
    " \n",
    "\n",
    "Note 1: You must follow the problem formulation discussed in the class. A abstract class for Problem amd Node definition is presented below. The search tree generation should follow the template discussed in the class (i.e., Node class, expand methods, etc.). \n",
    "\n",
    "Note 2: The code should be written in a single jupyter notebook file."
   ]
  },
  {
   "cell_type": "code",
   "execution_count": 1,
   "metadata": {
    "id": "uG30krXtJDXv"
   },
   "outputs": [],
   "source": [
    "class Problem:\n",
    "    \"\"\"The abstract class for a formal problem. A new domain subclasses this,\n",
    "    overriding `actions` and `results`, and perhaps other methods.\n",
    "    The default heuristic is 0 and the default action cost is 1 for all states.\n",
    "    When you create an instance of a subclass, specify `initial`, and `goal` states \n",
    "    (or give an `is_goal` method) and perhaps other keyword args for the subclass.\"\"\"\n",
    "\n",
    "    def __init__(self, initial=None, goal=None, **kwds): \n",
    "        self.__dict__.update(initial=initial, goal=goal, **kwds) \n",
    "        \n",
    "    def actions(self, state):        raise NotImplementedError\n",
    "    def result(self, state, action): raise NotImplementedError\n",
    "    def is_goal(self, state):        return state == self.goal\n",
    "    def action_cost(self, s, a, s1): return 1\n",
    "    def h(self, node):               return 0\n",
    "    \n",
    "    def __str__(self):\n",
    "        return '{}({!r}, {!r})'.format(\n",
    "            type(self).__name__, self.initial, self.goal)"
   ]
  },
  {
   "cell_type": "code",
   "execution_count": 2,
   "metadata": {
    "id": "F1qsU3yzJDXy"
   },
   "outputs": [],
   "source": [
    "# Use the following Node class to generate search tree\n",
    "import math\n",
    "class Node:\n",
    "    \"A Node in a search tree.\"\n",
    "    def __init__(self, state, parent=None, action=None, path_cost=0):\n",
    "        self.__dict__.update(state=state, parent=parent, action=action, path_cost=path_cost)\n",
    "\n",
    "    def __repr__(self): return '<{}>'.format(self.state)\n",
    "    def __len__(self): return 0 if self.parent is None else (1 + len(self.parent))\n",
    "    def __lt__(self, other): return self.path_cost < other.path_cost \n"
   ]
  },
  {
   "cell_type": "code",
   "execution_count": 3,
   "metadata": {},
   "outputs": [],
   "source": [
    "failure = Node('failure', path_cost=math.inf) # Indicates an algorithm couldn't find a solution.\n",
    "cutoff  = Node('cutoff',  path_cost=math.inf) # Indicates iterative deepening search was cut off.\n",
    "  \n",
    "def expand(problem, node):\n",
    "    \"Expand a node, generating the children nodes.\"\n",
    "    s = node.state\n",
    "    for action in problem.actions(s):\n",
    "        s1 = problem.result(s, action)\n",
    "        cost = node.path_cost + problem.action_cost(s, action, s1)\n",
    "        yield Node(s1, node, action, cost)\n",
    "        \n",
    "\n",
    "def path_actions(node):\n",
    "    \"The sequence of actions to get to this node.\"\n",
    "    if node.parent is None:\n",
    "        return []  \n",
    "    return path_actions(node.parent) + [node.action]\n",
    "\n",
    "def path_states(node):\n",
    "    \"The sequence of states to get to this node.\"\n",
    "    if node in (cutoff, failure, None): \n",
    "        return []\n",
    "    return path_states(node.parent) + [node.state]"
   ]
  },
  {
   "cell_type": "code",
   "execution_count": 4,
   "metadata": {},
   "outputs": [],
   "source": [
    "# NOTE: deque need to be imported here!!!\n",
    "from collections import deque\n",
    "import heapq\n",
    "FIFOQueue = deque\n",
    "\n",
    "LIFOQueue = list\n",
    "\n",
    "class PriorityQueue:\n",
    "    \"\"\"A queue in which the item with minimum f(item) is always popped first.\"\"\"\n",
    "\n",
    "    def __init__(self, items=(), key=lambda x: x): \n",
    "        self.key = key\n",
    "        self.items = [] # a heap of (score, item) pairs\n",
    "        for item in items:\n",
    "            self.add(item)\n",
    "         \n",
    "    def add(self, item):\n",
    "        \"\"\"Add item to the queuez.\"\"\"\n",
    "        pair = (self.key(item), item)\n",
    "        heapq.heappush(self.items, pair)\n",
    "\n",
    "    def pop(self):\n",
    "        \"\"\"Pop and return the item with min f(item) value.\"\"\"\n",
    "        return heapq.heappop(self.items)[1]\n",
    "    \n",
    "    def top(self): return self.items[0][1]\n",
    "\n",
    "    def __len__(self): return len(self.items)"
   ]
  },
  {
   "cell_type": "markdown",
   "metadata": {},
   "source": [
    "## **Q1.a: Class Maze(Problem)** [5 Marks]\n",
    "\n",
    "Write a Maze class to create a model for this problem. You should not use an explicit state space model. The modelling should inherit the abstract class 'Problem' (given below). With the problem formulation, find the shortest path from S to G cell. Propose and implement multiple heuristics (at least two heuristics) for informed search algorithms."
   ]
  },
  {
   "cell_type": "code",
   "execution_count": 5,
   "metadata": {
    "id": "uvB_5QSvJDXz"
   },
   "outputs": [],
   "source": [
    "MAZE_ROWS = 16\n",
    "MAZE_COLUMNS = 24\n",
    "ACTIONS = {'UP', 'LEFT', 'RIGHT', 'DOWN'}\n",
    "xya = {\n",
    "    'UP': [1, 0],\n",
    "    'LEFT': [0, -1],\n",
    "    'RIGHT': [0, 1],\n",
    "    'DOWN': [-1, 0],\n",
    "}\n",
    "_costs_ = {\n",
    "    'UP': 1,\n",
    "    'LEFT': 10,\n",
    "    'RIGHT': 10,\n",
    "    'DOWN': 1,\n",
    "}\n",
    "_BLACK_ = {\n",
    "    (14, 9),\n",
    "    (13, 10),\n",
    "    (12, 10),\n",
    "    (11, 10),\n",
    "    (11, 12),\n",
    "    (11, 13),\n",
    "    (10, 9),\n",
    "    (10, 10),\n",
    "    (10, 12),\n",
    "    (10, 13),\n",
    "    (9, 9),\n",
    "    (8, 9),\n",
    "    (7, 9),\n",
    "    (6, 9),\n",
    "}\n",
    "def nxt_xy(state:tuple[int, int], _action_:str)->tuple[int, int]:\n",
    "    # assert _action_ in ACTIONS\n",
    "    x, y = state\n",
    "    ax, ay = xya[_action_]\n",
    "    return (x+ax, y+ay)\n",
    "\n",
    "def xy_ok(state:tuple[int, int])->bool:\n",
    "    nx, ny = state\n",
    "    ok = (\n",
    "        (nx >= 0) and (nx < MAZE_ROWS) and \n",
    "        (ny >= 0) and (ny < MAZE_COLUMNS) and \n",
    "        (state not in _BLACK_)\n",
    "    )\n",
    "    return ok\n",
    "\n",
    "def action_cost(_action_:str)->int:\n",
    "    # assert _action_ in ACTIONS\n",
    "    return _costs_[_action_]\n",
    "\n",
    "class Maze(Problem):\n",
    "    \n",
    "    def __init__(self, initial=None, goal=None):\n",
    "        Problem.__init__(self, initial=initial, goal=goal)\n",
    "\n",
    "    def h1(self, node):\n",
    "        \"\"\"Heuristic 1: Weighted Manhattan distance considering action costs.\"\"\"\n",
    "        x1, y1 = node.state\n",
    "        x2, y2 = self.goal\n",
    "        vertical_distance = abs(x2 - x1)  # Vertical moves cost 1\n",
    "        horizontal_distance = abs(y2 - y1)  # Horizontal moves cost 10\n",
    "        return 1 * vertical_distance + 10 * horizontal_distance\n",
    "\n",
    "    def h2(self, node):\n",
    "        \"\"\"Heuristic 2: Simplified Manhattan distance.\"\"\"\n",
    "        x1, y1 = node.state\n",
    "        x2, y2 = self.goal\n",
    "        return abs(x2 - x1) + abs(y2 - y1)\n",
    "    def h3(self, node):\n",
    "        return node.path_cost\n",
    "        \n",
    "    def action_cost(self, s, a, s1): \n",
    "        nx, ny = nxt_xy(s, a)\n",
    "        assert (nx, ny) == s1\n",
    "        return action_cost(a)\n",
    "        # raise NotImplementedError                   #Your Code goes here\n",
    "                  \n",
    "    def result(self, state, action): \n",
    "        nx, ny = nxt_xy(state, action)\n",
    "        return (nx, ny)\n",
    "        # raise NotImplementedError                   #Your Code goes here  \n",
    "\n",
    "    def actions(self, state):\n",
    "        ret = []\n",
    "        for a in ACTIONS:\n",
    "            ns = nxt_xy(state, a)\n",
    "            if xy_ok(ns):\n",
    "                ret.append(a)\n",
    "        return set(ret)\n",
    "        # raise NotImplementedError                   #Your Code goes here   \n",
    "    \n"
   ]
  },
  {
   "cell_type": "markdown",
   "metadata": {},
   "source": [
    "### Testing the model"
   ]
  },
  {
   "cell_type": "code",
   "execution_count": 6,
   "metadata": {},
   "outputs": [],
   "source": [
    "#Testing Maze class\n",
    "#Note that we perform additional tests to validate the modeling\n",
    "\n",
    "#An instance of Maze problem; initialize the Maze class with appropriate values\n",
    "m1 = Maze(initial = (8,10), goal = (11,9))\n",
    "\n",
    "# Testing the methods in Maze class\n",
    "assert m1.result((4,12),'UP') == (5,12)\n",
    "assert m1.action_cost((4,12),'UP',(5,12)) == 1\n",
    "assert m1.actions((4,12)) == {'UP', 'LEFT', 'RIGHT', 'DOWN'}"
   ]
  },
  {
   "cell_type": "markdown",
   "metadata": {},
   "source": [
    "## **Q1.b: Analysis of the Algorithms** [5 Marks]\n",
    "\n",
    "1. Solve the above Maze problem using the following algorithms\n",
    "\n",
    "    a. Breadth-First Search\n",
    "\n",
    "    b. Depth-First Search with Cycle-Check\n",
    "\n",
    "    c. Iterative-Deepening Search with Cycle-Check\n",
    "\n",
    "    d. Uniform-Cost Search\n",
    "\n",
    "    e. A* Search \n",
    "\n",
    "    f. Greedy Best-first Search"
   ]
  },
  {
   "cell_type": "code",
   "execution_count": 7,
   "metadata": {
    "scrolled": true
   },
   "outputs": [
    {
     "name": "stdout",
     "output_type": "stream",
     "text": [
      "Result:<(11, 9)>\n",
      "Number of expanded nodes:661\n",
      "Maximum fontier size:31\n",
      "Path costs: 39\n",
      "Path states:[(8, 10), (7, 10), (6, 10), (5, 10), (5, 9), (5, 8), (6, 8), (7, 8), (8, 8), (9, 8), (10, 8), (11, 8), (11, 9)]\n"
     ]
    }
   ],
   "source": [
    "#For breadth-first search\n",
    "def breadth_first_search(problem):\n",
    "    \"Search shallowest nodes in the search tree first.\"\n",
    "    node_count = 0\n",
    "    maxfrontier_size = 0\n",
    "    node = Node(problem.initial)\n",
    "    if problem.is_goal(problem.initial):\n",
    "        return node,node_count,maxfrontier_size\n",
    "    frontier = FIFOQueue([node])\n",
    "    reached = {problem.initial}\n",
    "    while frontier:\n",
    "        maxfrontier_size = max(maxfrontier_size,len(frontier))\n",
    "        node = frontier.pop()\n",
    "        for child in expand(problem, node):\n",
    "            node_count += 1\n",
    "            s = child.state\n",
    "            if problem.is_goal(s):\n",
    "                return child,node_count,maxfrontier_size\n",
    "            if s not in reached:\n",
    "                reached.add(s)\n",
    "                frontier.appendleft(child)\n",
    "    return failure,node_count,maxfrontier_size\n",
    "\n",
    "result_breadth, node_count_breadth, maxfrontier_size_breadth = breadth_first_search(m1) \n",
    "print(f'Result:{result_breadth}')\n",
    "print(f'Number of expanded nodes:{node_count_breadth}')\n",
    "print(f'Maximum fontier size:{maxfrontier_size_breadth}')\n",
    "print(f'Path costs: {result_breadth.path_cost}')\n",
    "print(f'Path states:{[s for s in path_states(result_breadth)]}')\n"
   ]
  },
  {
   "cell_type": "code",
   "execution_count": 8,
   "metadata": {},
   "outputs": [
    {
     "name": "stderr",
     "output_type": "stream",
     "text": [
      "Exception ignored in: <bound method IPythonKernel._clean_thread_parent_frames of <ipykernel.ipkernel.IPythonKernel object at 0x1057dc7a0>>\n",
      "Traceback (most recent call last):\n",
      "  File \"/Users/christopher/Coding/HKY/IT5008/.conda/lib/python3.12/site-packages/ipykernel/ipkernel.py\", line 775, in _clean_thread_parent_frames\n",
      "    def _clean_thread_parent_frames(\n",
      "\n",
      "KeyboardInterrupt: \n"
     ]
    }
   ],
   "source": [
    "# #For depth-first search with cycle-check\n",
    "# def is_cycle(node, k):\n",
    "#     \"Does this node form a cycle of length k or less?\"\n",
    "#     def find_cycle(ancestor, k):\n",
    "#         return (ancestor is not None and k > 0 and\n",
    "#                 (ancestor.state == node.state or find_cycle(ancestor.parent, k - 1)))\n",
    "#     return find_cycle(node.parent, k)\n",
    "\n",
    "# def depth_first_search(problem):\n",
    "#     \"Search deepest nodes in the search tree first.\"\n",
    "#     frontier = LIFOQueue([Node(problem.initial)])    \n",
    "#     result = failure\n",
    "#     while frontier:\n",
    "#         node = frontier.pop()\n",
    "#         if problem.is_goal(node.state):\n",
    "#             return node\n",
    "#         elif not is_cycle(node,k=30):\n",
    "#             for child in expand(problem, node):                \n",
    "#                 frontier.append(child)\n",
    "#     return result\n",
    "\n",
    "# result_dfs = depth_first_search(m1)  \n",
    "# print(result_dfs.path_cost)\n",
    "# path_states(result_dfs)"
   ]
  },
  {
   "cell_type": "code",
   "execution_count": null,
   "metadata": {},
   "outputs": [],
   "source": [
    "#Your code for  iterative Deepening search with cycle-check\n",
    "def depth_limited_search(problem, limit=10):\n",
    "    \"Search deepest nodes in the search tree first.\"\n",
    "    frontier = LIFOQueue([Node(problem.initial)])    \n",
    "    result = failure\n",
    "    while frontier:\n",
    "        node = frontier.pop()\n",
    "        if problem.is_goal(node.state):\n",
    "            return node\n",
    "        elif len(node) > limit:\n",
    "            result = cutoff\n",
    "        elif not is_cycle(node):\n",
    "            for child in expand(problem, node):                \n",
    "                frontier.append(child)\n",
    "    return result\n",
    "\n",
    "def iterative_deepening_search(problem):\n",
    "    \"Do depth-limited search with increasing depth limits.\"\n",
    "    for limit in range(1, sys.maxsize):\n",
    "        result = depth_limited_search(problem, limit)\n",
    "        if result != cutoff:\n",
    "            return result"
   ]
  },
  {
   "cell_type": "code",
   "execution_count": null,
   "metadata": {},
   "outputs": [],
   "source": [
    "#Your code for uniform-cost search"
   ]
  },
  {
   "cell_type": "code",
   "execution_count": null,
   "metadata": {},
   "outputs": [
    {
     "name": "stdout",
     "output_type": "stream",
     "text": [
      "<(11, 9)> 39\n",
      "(8, 10)\n",
      "(7, 10)\n",
      "(6, 10)\n",
      "(5, 10)\n",
      "(5, 9)\n",
      "(5, 8)\n",
      "(6, 8)\n",
      "(7, 8)\n",
      "(8, 8)\n",
      "(9, 8)\n",
      "(10, 8)\n",
      "(11, 8)\n",
      "(11, 9)\n"
     ]
    }
   ],
   "source": [
    "#Your code for A* Search\n",
    "def astar_search(problem, h=None):\n",
    "    h = h or problem.h\n",
    "    frontier = PriorityQueue([Node(problem.initial)], key=lambda node: node.path_cost + h(node))\n",
    "    explored = set()\n",
    "    while frontier:\n",
    "        node = frontier.pop()\n",
    "        if problem.is_goal(node.state):\n",
    "            return node\n",
    "        explored.add(node.state)\n",
    "        for child in expand(problem, node):\n",
    "            if child.state not in explored and child.state not in [n.state for _, n in frontier.items]:\n",
    "                frontier.add(child)\n",
    "            elif child.state in [n.state for _, n in frontier.items]:\n",
    "                index = next((i for i, (_, n) in enumerate(frontier.items) if n.state == child.state), None)\n",
    "                if index is not None:\n",
    "                    incumbent = frontier.items[index][1]\n",
    "                    if child.path_cost < incumbent.path_cost:\n",
    "                        frontier.items[index] = (child.path_cost + h(child), child)\n",
    "                        heapq.heapify(frontier.items)\n",
    "    return failure\n",
    "\n",
    "# use A* search and heuristic 1 to solve\n",
    "m = Maze(initial = (8, 10), goal = (11, 9))\n",
    "result_astar = astar_search(m,m.h3)\n",
    "print(result_astar, result_astar.path_cost)\n",
    "for s in path_states(result_astar):\n",
    "    print(s)"
   ]
  },
  {
   "cell_type": "code",
   "execution_count": null,
   "metadata": {},
   "outputs": [
    {
     "name": "stdout",
     "output_type": "stream",
     "text": [
      "<(11, 9)> 61\n",
      "(8, 10)\n",
      "(9, 10)\n",
      "(9, 11)\n",
      "(10, 11)\n",
      "(11, 11)\n",
      "(12, 11)\n",
      "(13, 11)\n",
      "(14, 11)\n",
      "(14, 10)\n",
      "(15, 10)\n",
      "(15, 9)\n",
      "(15, 8)\n",
      "(14, 8)\n",
      "(13, 8)\n",
      "(12, 8)\n",
      "(11, 8)\n",
      "(11, 9)\n"
     ]
    }
   ],
   "source": [
    "#Your code for greedy-best first search\n",
    "def greedy_bfs(problem, h=None):\n",
    "    \"\"\"以 h(n) 最小的节点进行搜索。\"\"\"\n",
    "    h = h or problem.h\n",
    "    frontier = PriorityQueue([Node(problem.initial)], key=h)\n",
    "    explored = set()\n",
    "    while frontier:\n",
    "        node = frontier.pop()\n",
    "        if problem.is_goal(node.state):\n",
    "            return node\n",
    "        explored.add(node.state)\n",
    "        for child in expand(problem, node):\n",
    "            if child.state not in explored and child.state not in [n.state for _, n in frontier.items]:\n",
    "                frontier.add(child)\n",
    "    return failure\n",
    "\n",
    "# use greedy best_first search and heuristic 2 to solve\n",
    "Maze.h = Maze.h2\n",
    "m = Maze(initial = (8, 10), goal = (11, 9))\n",
    "result_greedy = greedy_bfs(m)\n",
    "print(result_greedy, result_greedy.path_cost)\n",
    "for s in path_states(result_greedy):\n",
    "    print(s)"
   ]
  },
  {
   "cell_type": "markdown",
   "metadata": {},
   "source": [
    "2. Identify the number of number of expanded nodes, maximum frontier size, and path-cost for the above algorithms.  Summarize the statistics in the following table."
   ]
  },
  {
   "cell_type": "markdown",
   "metadata": {},
   "source": [
    "\n",
    " Algorithm             |Number of expanded nodes  | Maximum Frontier Size  |  Path Cost                  |\n",
    "|:---------------------|:-------------------------|:-----------------------|:----------\n",
    "| Breadth-First Search |                          |                        |\n",
    "| DFS with cycle check |                          |                        |\n",
    "| IDS with cycle check |                          |                        |\n",
    "| UCS                  |                          |                        |\n",
    "| A* Search            |                          |                        |\n",
    "| GBFS                 |                          |                        |"
   ]
  },
  {
   "cell_type": "markdown",
   "metadata": {},
   "source": [
    "3. Compare the performance of informed search algorithms with proposed heuristics. Identify the best performing heuristic and explain.\n",
    "\n"
   ]
  }
 ],
 "metadata": {
  "colab": {
   "provenance": []
  },
  "kernelspec": {
   "display_name": "Python 3 (ipykernel)",
   "language": "python",
   "name": "python3"
  },
  "language_info": {
   "codemirror_mode": {
    "name": "ipython",
    "version": 3
   },
   "file_extension": ".py",
   "mimetype": "text/x-python",
   "name": "python",
   "nbconvert_exporter": "python",
   "pygments_lexer": "ipython3",
   "version": "3.12.5"
  },
  "vscode": {
   "interpreter": {
    "hash": "85c6d5c81e07e5df96d46470b5f31cdc60bf99937c21eb8030f5ac9c2291ee2f"
   }
  }
 },
 "nbformat": 4,
 "nbformat_minor": 4
}
